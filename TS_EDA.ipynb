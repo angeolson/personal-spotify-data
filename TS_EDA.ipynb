{
 "cells": [
  {
   "cell_type": "markdown",
   "metadata": {},
   "source": [
    "# Exploratory Data Analysis (EDA) of Spotify Data Over Time\n",
    "## Ange Olson"
   ]
  },
  {
   "cell_type": "markdown",
   "metadata": {},
   "source": [
    "Since April of 2016, I've made (almost) monthly playlists on Spotify consisting of the songs I enjoyed listening to that month. I created them as the month went on, meaning they've got a couple of cool characteristics:\n",
    "\n",
    "* They can be used to see which artist/genres I was listening to together at any given time\n",
    "* They provide point-in-time stats rather than the short-term, medium-term, and long-term song histories directly available from the API \n",
    "* They can more accurately be used to determine songs I particularly liked than looking at the songs I listened to frequently, and compared to the songs I listened to that didn't end up on a playlist (read: content-based recommendation system)\n",
    "\n",
    "I've gone through and pulled the data from all the playlists, grabbing the typical metadata on each song (see the [Spotify Documentation on audio features](https://developer.spotify.com/documentation/web-api/reference/#/operations/get-audio-features) for a full list and descriptions) including artist name, genre, release year, valence, tempo, key, etc. I was able to use the name of the playlist itself, dated almost uniformly throughout the past 6 years, to grab the month and year I listened to the song. \n",
    "\n",
    "In the analysis below, I mostly focus on either month trends for all years, or trends over the past 6 years rather than analyzing the data as a whole. "
   ]
  },
  {
   "cell_type": "markdown",
   "metadata": {},
   "source": [
    "# Section I: Basic Info \n",
    "## How many observations do I have? How many months am I missing? How balanced is the dataset? "
   ]
  },
  {
   "cell_type": "code",
   "execution_count": null,
   "metadata": {},
   "outputs": [],
   "source": [
    "# import packages, data, set theme \n",
    "\n",
    "# packages\n",
    "from matplotlib import markers\n",
    "import pandas as pd\n",
    "import numpy as np\n",
    "import seaborn as sns\n",
    "import matplotlib.pyplot as plt\n",
    "import scipy.stats as stats \n",
    "import statistics\n",
    "import plotly.express as px\n",
    "import statsmodels \n",
    "\n",
    "# graphing\n",
    "sns.set_theme(style=\"whitegrid\", palette=\"Paired\")\n",
    "\n",
    "# data\n",
    "df = pd.read_csv(\"time_series_data_clean.csv\")"
   ]
  },
  {
   "cell_type": "code",
   "execution_count": null,
   "metadata": {},
   "outputs": [],
   "source": [
    "# define pivot table function and use to create main dataframes\n",
    "\n",
    "# get vals that need to be averaged\n",
    "mean_vals = \"danceability\", \"energy\", \"loudness\", \"speechiness\", \"instrumentalness\", \"liveness\", \"valence\", \"tempo\", \"duration_ms\", \"track_pop\", \"artist_pop\", \"release_year\"\n",
    "\n",
    "# get vals for mode\n",
    "mode_vals = \"key\", \"mode\", \"time_signature\", \"artist_genre\", \"artist\"\n",
    "\n",
    "def getPivot(mean_vals, mode_vals, index):\n",
    "    \n",
    "    # define pivot table of means\n",
    "    table_means = pd.pivot_table(df, index = index, values = mean_vals, aggfunc=np.mean)\n",
    "    \n",
    "    # define pivot table of modes\n",
    "    table_modes = pd.pivot_table(df, index = index, values = mode_vals, aggfunc=statistics.mode)\n",
    "\n",
    "    pivot_df = table_means.join(table_modes, on=index)\n",
    "    pivot_df.reset_index(inplace=True)\n",
    "    pivot_df = pivot_df.rename(columns = {'index': index})\n",
    "\n",
    "    return pivot_df\n",
    "\n",
    "# create pivot table by date\n",
    "# get index val\n",
    "index = \"playlist_date\"\n",
    "\n",
    "datePivot = getPivot(mean_vals=mean_vals, mode_vals=mode_vals, index=index)\n",
    "\n",
    "datePivot[\"playlist_date\"] = pd.to_datetime(datePivot.playlist_date)\n",
    "\n",
    "# create pivot table by month\n",
    "# get index val\n",
    "index2 = \"playlist_month\"\n",
    "\n",
    "monthPivot = getPivot(mean_vals=mean_vals, mode_vals=mode_vals, index=index2)"
   ]
  },
  {
   "cell_type": "markdown",
   "metadata": {},
   "source": [
    "The months with the lowest number of observations are June and August (2), but all months have at least one observation."
   ]
  },
  {
   "cell_type": "code",
   "execution_count": null,
   "metadata": {},
   "outputs": [],
   "source": [
    "df.groupby('playlist_month')['playlist_date'].nunique()"
   ]
  },
  {
   "cell_type": "markdown",
   "metadata": {},
   "source": []
  }
 ],
 "metadata": {
  "kernelspec": {
   "display_name": "Python 3.9.10 64-bit",
   "language": "python",
   "name": "python3"
  },
  "language_info": {
   "name": "python",
   "version": "3.9.10"
  },
  "orig_nbformat": 4,
  "vscode": {
   "interpreter": {
    "hash": "aee8b7b246df8f9039afb4144a1f6fd8d2ca17a180786b69acc140d282b71a49"
   }
  }
 },
 "nbformat": 4,
 "nbformat_minor": 2
}
